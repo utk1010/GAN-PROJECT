{
  "nbformat": 4,
  "nbformat_minor": 0,
  "metadata": {
    "colab": {
      "provenance": []
    },
    "kernelspec": {
      "name": "python3",
      "display_name": "Python 3"
    },
    "language_info": {
      "name": "python"
    }
  },
  "cells": [
    {
      "cell_type": "markdown",
      "source": [
        "**Part 1: Setup and Dataset Preparation**"
      ],
      "metadata": {
        "id": "2DgED-iVMwZ1"
      }
    },
    {
      "cell_type": "code",
      "execution_count": 1,
      "metadata": {
        "colab": {
          "base_uri": "https://localhost:8080/"
        },
        "id": "3GwGUnhPMv0m",
        "outputId": "241a7709-0737-4b92-fd17-0f2d975f816f"
      },
      "outputs": [
        {
          "output_type": "stream",
          "name": "stdout",
          "text": [
            "Downloading data from https://www.cs.toronto.edu/~kriz/cifar-10-python.tar.gz\n",
            "\u001b[1m170498071/170498071\u001b[0m \u001b[32m━━━━━━━━━━━━━━━━━━━━\u001b[0m\u001b[37m\u001b[0m \u001b[1m4s\u001b[0m 0us/step\n",
            "Training data shape: (50000, 32, 32, 3), Test data shape: (10000, 32, 32, 3)\n"
          ]
        }
      ],
      "source": [
        "# Import required libraries\n",
        "import tensorflow as tf\n",
        "from tensorflow.keras import layers, models\n",
        "from tensorflow.keras.datasets import cifar10\n",
        "from tensorflow.keras.utils import to_categorical\n",
        "import numpy as np\n",
        "import matplotlib.pyplot as plt\n",
        "from sklearn.metrics import confusion_matrix, ConfusionMatrixDisplay\n",
        "\n",
        "# Load CIFAR-10 dataset\n",
        "(x_train, y_train), (x_test, y_test) = cifar10.load_data()\n",
        "\n",
        "# Normalize image data to range [0, 1]\n",
        "x_train, x_test = x_train / 255.0, x_test / 255.0\n",
        "\n",
        "# Convert class labels to one-hot encoding (e.g., 2 -> [0, 0, 1, 0, ..., 0])\n",
        "y_train, y_test = to_categorical(y_train, 10), to_categorical(y_test, 10)\n",
        "\n",
        "print(f\"Training data shape: {x_train.shape}, Test data shape: {x_test.shape}\")"
      ]
    },
    {
      "cell_type": "markdown",
      "source": [
        "**Part 2: Define the ResNet-18 Architecture**"
      ],
      "metadata": {
        "id": "skDP3NwKNA3K"
      }
    },
    {
      "cell_type": "code",
      "source": [
        "# Define a single residual block for ResNet\n",
        "def resnet_block(input_tensor, filters, strides=1):\n",
        "    # First convolutional layer\n",
        "    x = layers.Conv2D(filters, (3, 3), strides=strides, padding='same', use_bias=False)(input_tensor)\n",
        "    x = layers.BatchNormalization()(x)\n",
        "    x = layers.ReLU()(x)\n",
        "\n",
        "    # Second convolutional layer\n",
        "    x = layers.Conv2D(filters, (3, 3), strides=1, padding='same', use_bias=False)(x)\n",
        "    x = layers.BatchNormalization()(x)\n",
        "\n",
        "    # Shortcut connection\n",
        "    if strides != 1 or input_tensor.shape[-1] != filters:\n",
        "        input_tensor = layers.Conv2D(filters, (1, 1), strides=strides, use_bias=False)(input_tensor)\n",
        "        input_tensor = layers.BatchNormalization()(input_tensor)\n",
        "\n",
        "    # Add the shortcut to the main path\n",
        "    x = layers.Add()([x, input_tensor])\n",
        "    x = layers.ReLU()(x)\n",
        "    return x\n",
        "\n",
        "# Build the full ResNet-18 model\n",
        "def build_resnet18(input_shape=(32, 32, 3), num_classes=10):\n",
        "    inputs = tf.keras.Input(shape=input_shape)\n",
        "\n",
        "    # Initial convolutional layer\n",
        "    x = layers.Conv2D(64, (3, 3), strides=1, padding='same', use_bias=False)(inputs)\n",
        "    x = layers.BatchNormalization()(x)\n",
        "    x = layers.ReLU()(x)\n",
        "\n",
        "    # Add ResNet blocks\n",
        "    x = resnet_block(x, 64)\n",
        "    x = resnet_block(x, 64)\n",
        "\n",
        "    x = resnet_block(x, 128, strides=2)\n",
        "    x = resnet_block(x, 128)\n",
        "\n",
        "    x = resnet_block(x, 256, strides=2)\n",
        "    x = resnet_block(x, 256)\n",
        "\n",
        "    x = resnet_block(x, 512, strides=2)\n",
        "    x = resnet_block(x, 512)\n",
        "\n",
        "    # Global Average Pooling and final classification layer\n",
        "    x = layers.GlobalAveragePooling2D()(x)\n",
        "    outputs = layers.Dense(num_classes, activation='softmax')(x)\n",
        "\n",
        "    # Create and return the model\n",
        "    model = models.Model(inputs, outputs)\n",
        "    return model"
      ],
      "metadata": {
        "id": "BEYUGuQSNC7K"
      },
      "execution_count": 2,
      "outputs": []
    },
    {
      "cell_type": "markdown",
      "source": [
        "**Part 3: Define the Generator for Synthetic Data**"
      ],
      "metadata": {
        "id": "sgtlH7_5NNWa"
      }
    },
    {
      "cell_type": "code",
      "source": [
        "# Define a simple generator for producing synthetic images\n",
        "def create_generator():\n",
        "    generator = models.Sequential([\n",
        "        layers.Dense(8 * 8 * 128, activation=\"relu\", input_dim=100),\n",
        "        layers.Reshape((8, 8, 128)),  # Reshape latent vector into 8x8x128 tensor\n",
        "        layers.Conv2DTranspose(128, (4, 4), strides=(2, 2), padding=\"same\", activation=\"relu\"),\n",
        "        layers.Conv2DTranspose(64, (4, 4), strides=(2, 2), padding=\"same\", activation=\"relu\"),\n",
        "        layers.Conv2D(3, (3, 3), activation=\"tanh\", padding=\"same\")  # Output: 32x32x3 image\n",
        "    ])\n",
        "    return generator\n",
        "\n",
        "# Create an instance of the generator\n",
        "generator = create_generator()"
      ],
      "metadata": {
        "colab": {
          "base_uri": "https://localhost:8080/"
        },
        "id": "2Jbm81qVNPHZ",
        "outputId": "7e6a2382-a2c5-432c-a1af-bb8e23346be5"
      },
      "execution_count": 3,
      "outputs": [
        {
          "output_type": "stream",
          "name": "stderr",
          "text": [
            "/usr/local/lib/python3.10/dist-packages/keras/src/layers/core/dense.py:87: UserWarning: Do not pass an `input_shape`/`input_dim` argument to a layer. When using Sequential models, prefer using an `Input(shape)` object as the first layer in the model instead.\n",
            "  super().__init__(activity_regularizer=activity_regularizer, **kwargs)\n"
          ]
        }
      ]
    },
    {
      "cell_type": "markdown",
      "source": [
        "**Part 4: Utility Functions for Synthetic Data and Dataset Mixing**"
      ],
      "metadata": {
        "id": "K4iJY3thNXc9"
      }
    },
    {
      "cell_type": "code",
      "source": [
        "# Generate synthetic images using the generator\n",
        "def generate_images(generator, num_images):\n",
        "    # Generate random noise (latent vector) as input to the generator\n",
        "    noise = np.random.normal(0, 1, (num_images, 100))\n",
        "\n",
        "    # Generate synthetic images and rescale from [-1, 1] to [0, 1]\n",
        "    generated_images = generator.predict(noise)\n",
        "    generated_images = (generated_images + 1) / 2.0\n",
        "    return generated_images\n",
        "\n",
        "# Mix real and synthetic datasets based on a contamination ratio\n",
        "def mix_datasets(real_images, real_labels, synthetic_images, synthetic_labels, ratio):\n",
        "    # Calculate the number of real and synthetic samples\n",
        "    num_real = int(len(real_images) * (1 - ratio))\n",
        "    num_synthetic = len(real_images) - num_real\n",
        "\n",
        "    # Combine real and synthetic data\n",
        "    mixed_images = np.concatenate([real_images[:num_real], synthetic_images[:num_synthetic]])\n",
        "    mixed_labels = np.concatenate([real_labels[:num_real], synthetic_labels[:num_synthetic]])\n",
        "\n",
        "    # Shuffle the combined dataset\n",
        "    indices = np.arange(len(mixed_images))\n",
        "    np.random.shuffle(indices)\n",
        "    return mixed_images[indices], mixed_labels[indices]"
      ],
      "metadata": {
        "id": "s_Ne7hrhNaPZ"
      },
      "execution_count": 4,
      "outputs": []
    },
    {
      "cell_type": "markdown",
      "source": [
        "**Part 5: FID Calculation Function**"
      ],
      "metadata": {
        "id": "W0jqm1XXONEa"
      }
    },
    {
      "cell_type": "code",
      "source": [
        "# Install required library\n",
        "!pip install scipy\n",
        "\n",
        "# Import necessary libraries\n",
        "import gc  # For garbage collection\n",
        "import tensorflow_hub as hub  # For pre-trained Inception model\n",
        "import scipy.linalg  # For matrix operations\n",
        "import numpy as np  # For numerical operations\n",
        "\n",
        "# Function to calculate FID Score\n",
        "def calculate_fid(real_features, fake_features):\n",
        "    # Compute mean and covariance for real and fake features\n",
        "    mu_real = np.mean(real_features, axis=0)\n",
        "    sigma_real = np.cov(real_features, rowvar=False)\n",
        "    mu_fake = np.mean(fake_features, axis=0)\n",
        "    sigma_fake = np.cov(fake_features, rowvar=False)\n",
        "\n",
        "    # Calculate FID components\n",
        "    mean_diff = np.sum((mu_real - mu_fake) ** 2)\n",
        "    cov_mean, _ = scipy.linalg.sqrtm(sigma_real @ sigma_fake, disp=False)\n",
        "\n",
        "    # Handle numerical instabilities (complex numbers)\n",
        "    if np.iscomplexobj(cov_mean):\n",
        "        cov_mean = cov_mean.real\n",
        "\n",
        "    # Compute FID score\n",
        "    fid = mean_diff + np.trace(sigma_real + sigma_fake - 2 * cov_mean)\n",
        "    return fid\n"
      ],
      "metadata": {
        "colab": {
          "base_uri": "https://localhost:8080/"
        },
        "id": "vyK4bctVOSiF",
        "outputId": "62ab117c-7978-48b3-93f8-24729d1867b3"
      },
      "execution_count": 5,
      "outputs": [
        {
          "output_type": "stream",
          "name": "stdout",
          "text": [
            "Requirement already satisfied: scipy in /usr/local/lib/python3.10/dist-packages (1.13.1)\n",
            "Requirement already satisfied: numpy<2.3,>=1.22.4 in /usr/local/lib/python3.10/dist-packages (from scipy) (1.26.4)\n"
          ]
        }
      ]
    },
    {
      "cell_type": "markdown",
      "source": [
        "**Part 6: Utility Functions for Preprocessing**"
      ],
      "metadata": {
        "id": "EP1T1KWjOV5i"
      }
    },
    {
      "cell_type": "code",
      "source": [
        "# Batch-resize images to the Inception model's input size\n",
        "def batch_resize(images, target_size=(299, 299), batch_size=32):\n",
        "    resized_batches = []\n",
        "    for i in range(0, len(images), batch_size):\n",
        "        # Resize a batch of images and store in a list\n",
        "        batch = images[i:i + batch_size]\n",
        "        resized_batches.append(tf.image.resize(batch, target_size).numpy())\n",
        "    return np.vstack(resized_batches)\n",
        "\n",
        "# Extract features from the Inception model\n",
        "def extract_features(images, model, batch_size=32):\n",
        "    features = []\n",
        "    for i in range(0, len(images), batch_size):\n",
        "        # Pass images in batches to the model and extract features\n",
        "        batch = images[i:i + batch_size]\n",
        "        features.append(model(batch))\n",
        "    return np.vstack(features)\n"
      ],
      "metadata": {
        "id": "M8TqF3CIOcW-"
      },
      "execution_count": 6,
      "outputs": []
    },
    {
      "cell_type": "markdown",
      "source": [
        "**Part 7: Main Function to Compute FID Scores**"
      ],
      "metadata": {
        "id": "k7OUsPYZOfVq"
      }
    },
    {
      "cell_type": "code",
      "source": [
        "def image_generation_with_fid(generator, contamination_ratios, num_images=1000, batch_size=32):\n",
        "    # Load the pre-trained Inception model for feature extraction\n",
        "    fid_model = hub.load(\"https://tfhub.dev/google/imagenet/inception_v3/feature_vector/5\")\n",
        "\n",
        "    # Generate synthetic images and labels\n",
        "    synthetic_images = generate_images(generator, len(x_train))\n",
        "    synthetic_labels = np.random.randint(0, 10, len(synthetic_images))\n",
        "    synthetic_labels = to_categorical(synthetic_labels, 10)  # One-hot encode synthetic labels\n",
        "\n",
        "    results = []  # Store results for each contamination ratio\n",
        "\n",
        "    for ratio in contamination_ratios:\n",
        "        print(f\"\\nEvaluating with {int(ratio * 100)}% contamination...\")\n",
        "\n",
        "        # Create a mixed dataset (real + synthetic)\n",
        "        x_mixed, _ = mix_datasets(x_train[:num_images], y_train[:num_images],\n",
        "                                  synthetic_images[:num_images], synthetic_labels[:num_images], ratio)\n",
        "\n",
        "        # Resize images for FID calculation\n",
        "        real_resized = batch_resize(x_test[:num_images], batch_size=batch_size)\n",
        "        fake_resized = batch_resize(x_mixed, batch_size=batch_size)\n",
        "\n",
        "        # Extract features from real and mixed datasets\n",
        "        real_features = extract_features(real_resized, fid_model, batch_size=batch_size)\n",
        "        fake_features = extract_features(fake_resized, fid_model, batch_size=batch_size)\n",
        "\n",
        "        # Compute FID score\n",
        "        fid_score = calculate_fid(real_features, fake_features)\n",
        "        results.append({'contamination': ratio, 'fid_score': fid_score})\n",
        "        print(f\"FID Score for {int(ratio * 100)}% contamination: {fid_score:.4f}\")\n",
        "\n",
        "        # Clear memory\n",
        "        tf.keras.backend.clear_session()\n",
        "        gc.collect()\n",
        "\n",
        "    return results\n"
      ],
      "metadata": {
        "id": "P0XOR0phOk_Z"
      },
      "execution_count": 7,
      "outputs": []
    },
    {
      "cell_type": "markdown",
      "source": [
        "**Part 8: Run the Evaluation and Plot Results**"
      ],
      "metadata": {
        "id": "XwCt-vDqOsjT"
      }
    },
    {
      "cell_type": "code",
      "source": [
        "# Define contamination ratios\n",
        "contamination_ratios = [0, 0.2, 0.4, 0.6, 0.8, 1]\n",
        "\n",
        "# Run FID evaluation\n",
        "fid_results = image_generation_with_fid(generator, contamination_ratios, num_images=1000, batch_size=32)\n",
        "\n",
        "# Extract FID scores and contamination ratios for plotting\n",
        "ratios = [result['contamination'] * 100 for result in fid_results]\n",
        "fid_scores = [result['fid_score'] for result in fid_results]\n",
        "\n",
        "# Plot FID scores vs contamination ratios\n",
        "plt.figure(figsize=(8, 6))\n",
        "plt.plot(ratios, fid_scores, marker='o', linestyle='-', color='b', label='FID Score')\n",
        "plt.xlabel('Contamination Ratio (%)', fontsize=14)\n",
        "plt.ylabel('FID Score', fontsize=14)\n",
        "plt.title('FID Score vs Contamination Ratio', fontsize=16)\n",
        "plt.grid(True)\n",
        "plt.legend()\n",
        "plt.show()\n"
      ],
      "metadata": {
        "colab": {
          "base_uri": "https://localhost:8080/",
          "height": 901
        },
        "id": "mnFw-HXdOvLr",
        "outputId": "b0317db8-071d-4ead-a2e7-e0746a94d43a"
      },
      "execution_count": 8,
      "outputs": [
        {
          "output_type": "stream",
          "name": "stdout",
          "text": [
            "\u001b[1m1563/1563\u001b[0m \u001b[32m━━━━━━━━━━━━━━━━━━━━\u001b[0m\u001b[37m\u001b[0m \u001b[1m168s\u001b[0m 107ms/step\n",
            "\n",
            "Evaluating with 0% contamination...\n",
            "FID Score for 0% contamination: 47.9512\n",
            "\n",
            "Evaluating with 20% contamination...\n",
            "FID Score for 20% contamination: 101.6279\n",
            "\n",
            "Evaluating with 40% contamination...\n",
            "FID Score for 40% contamination: 173.9873\n",
            "\n",
            "Evaluating with 60% contamination...\n",
            "FID Score for 60% contamination: 262.0420\n",
            "\n",
            "Evaluating with 80% contamination...\n",
            "FID Score for 80% contamination: 373.2398\n",
            "\n",
            "Evaluating with 100% contamination...\n",
            "FID Score for 100% contamination: 551.2649\n"
          ]
        },
        {
          "output_type": "display_data",
          "data": {
            "text/plain": [
              "<Figure size 800x600 with 1 Axes>"
            ],
            "image/png": "[encoded data removed]"
          },
          "metadata": {}
        }
      ]
    }
  ]
}